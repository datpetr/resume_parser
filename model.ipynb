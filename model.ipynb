{
 "cells": [
  {
   "cell_type": "code",
   "id": "initial_id",
   "metadata": {
    "collapsed": true,
    "ExecuteTime": {
     "end_time": "2024-07-25T15:36:57.656832Z",
     "start_time": "2024-07-25T15:36:56.330803Z"
    },
    "id": "initial_id"
   },
   "source": [
    "import pandas as pd\n",
    "from sklearn.model_selection import train_test_split\n",
    "from fastai.text.all import *"
   ],
   "outputs": [],
   "execution_count": 1
  },
  {
   "metadata": {
    "ExecuteTime": {
     "end_time": "2024-07-25T15:36:57.738704Z",
     "start_time": "2024-07-25T15:36:57.657736Z"
    },
    "colab": {
     "base_uri": "https://localhost:8080/",
     "height": 848
    },
    "id": "5902adf104a08c5",
    "outputId": "37fad22a-07d4-498d-e42f-1a0a305e2db3"
   },
   "cell_type": "code",
   "source": [
    "df = pd.read_csv('data/filtered_data.csv', usecols=[1, 4])\n",
    "df.head()"
   ],
   "id": "5902adf104a08c5",
   "outputs": [
    {
     "output_type": "execute_result",
     "data": {
      "text/plain": [
       "       Category  \\\n",
       "0  Data Science   \n",
       "1  Data Science   \n",
       "2  Data Science   \n",
       "3  Data Science   \n",
       "4  Data Science   \n",
       "\n",
       "                                                                                                                                                                                                                                                                                                                                                                                                                                                                                                                                                                                                         Normalized_Resume  \n",
       "0  Skills Programming Languages Python pandas numpy scipy scikitlearn matplotlib Sql Java JavaScriptJQuery Machine learning Regression SVM Nave Bayes KNN Random Forest Decision Trees Boosting techniques Cluster Analysis Word Embedding Sentiment Analysis Natural Language processing Dimensionality reduction Topic Modelling LDA NMF PCA Neural Nets Database Visualizations Mysql SqlServer Cassandra Hbase ElasticSearch D3js DCjs Plotly kibana matplotlib ggplot Tableau Others Regular Expression HTML CSS Angular 6 Logstash Kafka Python Flask Git Docker computer vision Open CV and understanding of Dee...  \n",
       "1  Education Details May to May BE UITRGPV Data Scientist Data Scientist Matelabs Skill Details Python Exprience Less than 1 year months Statsmodels Exprience 12 months AWS Exprience Less than 1 year months Machine learning Exprience Less than 1 year months Sklearn Exprience Less than 1 year months Scipy Exprience Less than 1 year months Keras Exprience Less than 1 year monthsCompany Details company Matelabs description ML Platform for business professionals dummies and enthusiasts 60A Koramangala 5th block AchievementsTasks behind sukh sagar Bengaluru India Developed and deployed auto prepro...  \n",
       "2  Areas of Interest Deep Learning Control System Design Programming inPython Electric Machinery Web Development Analytics Technical Activities q Hindustan Aeronautics Limited Bangalore For 4 weeks under the guidance of Mr Satish Senior Engineer in the hangar of Mirage fighter aircraft Technical Skills Programming Matlab Python and Java LabView Python WebFrameWorkDjango Flask LTSPICEintermediate Languages and and MIPOWERintermediate Github GitBash Jupyter Notebook Xampp MySQLBasics Python Software Packages InterpretersAnaconda Python2 Python3 Pycharm Java IDEEclipse Operating Systems Windows ...  \n",
       "3  Skills R Python SAP HANA Tableau SAP HANA SQL SAP HANA PAL MS SQL SAP Lumira C Linear Programming Data Modelling Advance Analytics SCM Analytics Retail Analytics Social Media Analytics NLP Education Details January to January PGDM Business Analytics Great Lakes Institute of Management Illinois Institute of Technology January Bachelor of Engineering Electronics and Communication Bengaluru Karnataka New Horizon College of Engineering Bangalore Visvesvaraya Technological University Data Science Consultant Consultant Deloitte USI Skill Details LINEAR PROGRAMMING Exprience 6 months RETAIL Expri...  \n",
       "4                                                                                                                                                                                                      Education Details MCA YMCAUST Faridabad Haryana Data Science internship Skill Details Data Structure Exprience Less than 1 year months C Exprience Less than 1 year months Data Analysis Exprience Less than 1 year months Python Exprience Less than 1 year months Core Java Exprience Less than 1 year months Database Management Exprience Less than 1 year monthsCompany Details company Itechpower description  "
      ],
      "text/html": [
       "\n",
       "  <div id=\"df-654a81ac-e869-4ec6-b8aa-fd1f1d91948c\" class=\"colab-df-container\">\n",
       "    <div>\n",
       "<style scoped>\n",
       "    .dataframe tbody tr th:only-of-type {\n",
       "        vertical-align: middle;\n",
       "    }\n",
       "\n",
       "    .dataframe tbody tr th {\n",
       "        vertical-align: top;\n",
       "    }\n",
       "\n",
       "    .dataframe thead th {\n",
       "        text-align: right;\n",
       "    }\n",
       "</style>\n",
       "<table border=\"1\" class=\"dataframe\">\n",
       "  <thead>\n",
       "    <tr style=\"text-align: right;\">\n",
       "      <th></th>\n",
       "      <th>Category</th>\n",
       "      <th>Normalized_Resume</th>\n",
       "    </tr>\n",
       "  </thead>\n",
       "  <tbody>\n",
       "    <tr>\n",
       "      <th>0</th>\n",
       "      <td>Data Science</td>\n",
       "      <td>Skills Programming Languages Python pandas numpy scipy scikitlearn matplotlib Sql Java JavaScriptJQuery Machine learning Regression SVM Nave Bayes KNN Random Forest Decision Trees Boosting techniques Cluster Analysis Word Embedding Sentiment Analysis Natural Language processing Dimensionality reduction Topic Modelling LDA NMF PCA Neural Nets Database Visualizations Mysql SqlServer Cassandra Hbase ElasticSearch D3js DCjs Plotly kibana matplotlib ggplot Tableau Others Regular Expression HTML CSS Angular 6 Logstash Kafka Python Flask Git Docker computer vision Open CV and understanding of Dee...</td>\n",
       "    </tr>\n",
       "    <tr>\n",
       "      <th>1</th>\n",
       "      <td>Data Science</td>\n",
       "      <td>Education Details May to May BE UITRGPV Data Scientist Data Scientist Matelabs Skill Details Python Exprience Less than 1 year months Statsmodels Exprience 12 months AWS Exprience Less than 1 year months Machine learning Exprience Less than 1 year months Sklearn Exprience Less than 1 year months Scipy Exprience Less than 1 year months Keras Exprience Less than 1 year monthsCompany Details company Matelabs description ML Platform for business professionals dummies and enthusiasts 60A Koramangala 5th block AchievementsTasks behind sukh sagar Bengaluru India Developed and deployed auto prepro...</td>\n",
       "    </tr>\n",
       "    <tr>\n",
       "      <th>2</th>\n",
       "      <td>Data Science</td>\n",
       "      <td>Areas of Interest Deep Learning Control System Design Programming inPython Electric Machinery Web Development Analytics Technical Activities q Hindustan Aeronautics Limited Bangalore For 4 weeks under the guidance of Mr Satish Senior Engineer in the hangar of Mirage fighter aircraft Technical Skills Programming Matlab Python and Java LabView Python WebFrameWorkDjango Flask LTSPICEintermediate Languages and and MIPOWERintermediate Github GitBash Jupyter Notebook Xampp MySQLBasics Python Software Packages InterpretersAnaconda Python2 Python3 Pycharm Java IDEEclipse Operating Systems Windows ...</td>\n",
       "    </tr>\n",
       "    <tr>\n",
       "      <th>3</th>\n",
       "      <td>Data Science</td>\n",
       "      <td>Skills R Python SAP HANA Tableau SAP HANA SQL SAP HANA PAL MS SQL SAP Lumira C Linear Programming Data Modelling Advance Analytics SCM Analytics Retail Analytics Social Media Analytics NLP Education Details January to January PGDM Business Analytics Great Lakes Institute of Management Illinois Institute of Technology January Bachelor of Engineering Electronics and Communication Bengaluru Karnataka New Horizon College of Engineering Bangalore Visvesvaraya Technological University Data Science Consultant Consultant Deloitte USI Skill Details LINEAR PROGRAMMING Exprience 6 months RETAIL Expri...</td>\n",
       "    </tr>\n",
       "    <tr>\n",
       "      <th>4</th>\n",
       "      <td>Data Science</td>\n",
       "      <td>Education Details MCA YMCAUST Faridabad Haryana Data Science internship Skill Details Data Structure Exprience Less than 1 year months C Exprience Less than 1 year months Data Analysis Exprience Less than 1 year months Python Exprience Less than 1 year months Core Java Exprience Less than 1 year months Database Management Exprience Less than 1 year monthsCompany Details company Itechpower description</td>\n",
       "    </tr>\n",
       "  </tbody>\n",
       "</table>\n",
       "</div>\n",
       "    <div class=\"colab-df-buttons\">\n",
       "\n",
       "  <div class=\"colab-df-container\">\n",
       "    <button class=\"colab-df-convert\" onclick=\"convertToInteractive('df-654a81ac-e869-4ec6-b8aa-fd1f1d91948c')\"\n",
       "            title=\"Convert this dataframe to an interactive table.\"\n",
       "            style=\"display:none;\">\n",
       "\n",
       "  <svg xmlns=\"http://www.w3.org/2000/svg\" height=\"24px\" viewBox=\"0 -960 960 960\">\n",
       "    <path d=\"M120-120v-720h720v720H120Zm60-500h600v-160H180v160Zm220 220h160v-160H400v160Zm0 220h160v-160H400v160ZM180-400h160v-160H180v160Zm440 0h160v-160H620v160ZM180-180h160v-160H180v160Zm440 0h160v-160H620v160Z\"/>\n",
       "  </svg>\n",
       "    </button>\n",
       "\n",
       "  <style>\n",
       "    .colab-df-container {\n",
       "      display:flex;\n",
       "      gap: 12px;\n",
       "    }\n",
       "\n",
       "    .colab-df-convert {\n",
       "      background-color: #E8F0FE;\n",
       "      border: none;\n",
       "      border-radius: 50%;\n",
       "      cursor: pointer;\n",
       "      display: none;\n",
       "      fill: #1967D2;\n",
       "      height: 32px;\n",
       "      padding: 0 0 0 0;\n",
       "      width: 32px;\n",
       "    }\n",
       "\n",
       "    .colab-df-convert:hover {\n",
       "      background-color: #E2EBFA;\n",
       "      box-shadow: 0px 1px 2px rgba(60, 64, 67, 0.3), 0px 1px 3px 1px rgba(60, 64, 67, 0.15);\n",
       "      fill: #174EA6;\n",
       "    }\n",
       "\n",
       "    .colab-df-buttons div {\n",
       "      margin-bottom: 4px;\n",
       "    }\n",
       "\n",
       "    [theme=dark] .colab-df-convert {\n",
       "      background-color: #3B4455;\n",
       "      fill: #D2E3FC;\n",
       "    }\n",
       "\n",
       "    [theme=dark] .colab-df-convert:hover {\n",
       "      background-color: #434B5C;\n",
       "      box-shadow: 0px 1px 3px 1px rgba(0, 0, 0, 0.15);\n",
       "      filter: drop-shadow(0px 1px 2px rgba(0, 0, 0, 0.3));\n",
       "      fill: #FFFFFF;\n",
       "    }\n",
       "  </style>\n",
       "\n",
       "    <script>\n",
       "      const buttonEl =\n",
       "        document.querySelector('#df-654a81ac-e869-4ec6-b8aa-fd1f1d91948c button.colab-df-convert');\n",
       "      buttonEl.style.display =\n",
       "        google.colab.kernel.accessAllowed ? 'block' : 'none';\n",
       "\n",
       "      async function convertToInteractive(key) {\n",
       "        const element = document.querySelector('#df-654a81ac-e869-4ec6-b8aa-fd1f1d91948c');\n",
       "        const dataTable =\n",
       "          await google.colab.kernel.invokeFunction('convertToInteractive',\n",
       "                                                    [key], {});\n",
       "        if (!dataTable) return;\n",
       "\n",
       "        const docLinkHtml = 'Like what you see? Visit the ' +\n",
       "          '<a target=\"_blank\" href=https://colab.research.google.com/notebooks/data_table.ipynb>data table notebook</a>'\n",
       "          + ' to learn more about interactive tables.';\n",
       "        element.innerHTML = '';\n",
       "        dataTable['output_type'] = 'display_data';\n",
       "        await google.colab.output.renderOutput(dataTable, element);\n",
       "        const docLink = document.createElement('div');\n",
       "        docLink.innerHTML = docLinkHtml;\n",
       "        element.appendChild(docLink);\n",
       "      }\n",
       "    </script>\n",
       "  </div>\n",
       "\n",
       "\n",
       "<div id=\"df-23db3cc6-ae32-4046-93f8-df7782558f96\">\n",
       "  <button class=\"colab-df-quickchart\" onclick=\"quickchart('df-23db3cc6-ae32-4046-93f8-df7782558f96')\"\n",
       "            title=\"Suggest charts\"\n",
       "            style=\"display:none;\">\n",
       "\n",
       "<svg xmlns=\"http://www.w3.org/2000/svg\" height=\"24px\"viewBox=\"0 0 24 24\"\n",
       "     width=\"24px\">\n",
       "    <g>\n",
       "        <path d=\"M19 3H5c-1.1 0-2 .9-2 2v14c0 1.1.9 2 2 2h14c1.1 0 2-.9 2-2V5c0-1.1-.9-2-2-2zM9 17H7v-7h2v7zm4 0h-2V7h2v10zm4 0h-2v-4h2v4z\"/>\n",
       "    </g>\n",
       "</svg>\n",
       "  </button>\n",
       "\n",
       "<style>\n",
       "  .colab-df-quickchart {\n",
       "      --bg-color: #E8F0FE;\n",
       "      --fill-color: #1967D2;\n",
       "      --hover-bg-color: #E2EBFA;\n",
       "      --hover-fill-color: #174EA6;\n",
       "      --disabled-fill-color: #AAA;\n",
       "      --disabled-bg-color: #DDD;\n",
       "  }\n",
       "\n",
       "  [theme=dark] .colab-df-quickchart {\n",
       "      --bg-color: #3B4455;\n",
       "      --fill-color: #D2E3FC;\n",
       "      --hover-bg-color: #434B5C;\n",
       "      --hover-fill-color: #FFFFFF;\n",
       "      --disabled-bg-color: #3B4455;\n",
       "      --disabled-fill-color: #666;\n",
       "  }\n",
       "\n",
       "  .colab-df-quickchart {\n",
       "    background-color: var(--bg-color);\n",
       "    border: none;\n",
       "    border-radius: 50%;\n",
       "    cursor: pointer;\n",
       "    display: none;\n",
       "    fill: var(--fill-color);\n",
       "    height: 32px;\n",
       "    padding: 0;\n",
       "    width: 32px;\n",
       "  }\n",
       "\n",
       "  .colab-df-quickchart:hover {\n",
       "    background-color: var(--hover-bg-color);\n",
       "    box-shadow: 0 1px 2px rgba(60, 64, 67, 0.3), 0 1px 3px 1px rgba(60, 64, 67, 0.15);\n",
       "    fill: var(--button-hover-fill-color);\n",
       "  }\n",
       "\n",
       "  .colab-df-quickchart-complete:disabled,\n",
       "  .colab-df-quickchart-complete:disabled:hover {\n",
       "    background-color: var(--disabled-bg-color);\n",
       "    fill: var(--disabled-fill-color);\n",
       "    box-shadow: none;\n",
       "  }\n",
       "\n",
       "  .colab-df-spinner {\n",
       "    border: 2px solid var(--fill-color);\n",
       "    border-color: transparent;\n",
       "    border-bottom-color: var(--fill-color);\n",
       "    animation:\n",
       "      spin 1s steps(1) infinite;\n",
       "  }\n",
       "\n",
       "  @keyframes spin {\n",
       "    0% {\n",
       "      border-color: transparent;\n",
       "      border-bottom-color: var(--fill-color);\n",
       "      border-left-color: var(--fill-color);\n",
       "    }\n",
       "    20% {\n",
       "      border-color: transparent;\n",
       "      border-left-color: var(--fill-color);\n",
       "      border-top-color: var(--fill-color);\n",
       "    }\n",
       "    30% {\n",
       "      border-color: transparent;\n",
       "      border-left-color: var(--fill-color);\n",
       "      border-top-color: var(--fill-color);\n",
       "      border-right-color: var(--fill-color);\n",
       "    }\n",
       "    40% {\n",
       "      border-color: transparent;\n",
       "      border-right-color: var(--fill-color);\n",
       "      border-top-color: var(--fill-color);\n",
       "    }\n",
       "    60% {\n",
       "      border-color: transparent;\n",
       "      border-right-color: var(--fill-color);\n",
       "    }\n",
       "    80% {\n",
       "      border-color: transparent;\n",
       "      border-right-color: var(--fill-color);\n",
       "      border-bottom-color: var(--fill-color);\n",
       "    }\n",
       "    90% {\n",
       "      border-color: transparent;\n",
       "      border-bottom-color: var(--fill-color);\n",
       "    }\n",
       "  }\n",
       "</style>\n",
       "\n",
       "  <script>\n",
       "    async function quickchart(key) {\n",
       "      const quickchartButtonEl =\n",
       "        document.querySelector('#' + key + ' button');\n",
       "      quickchartButtonEl.disabled = true;  // To prevent multiple clicks.\n",
       "      quickchartButtonEl.classList.add('colab-df-spinner');\n",
       "      try {\n",
       "        const charts = await google.colab.kernel.invokeFunction(\n",
       "            'suggestCharts', [key], {});\n",
       "      } catch (error) {\n",
       "        console.error('Error during call to suggestCharts:', error);\n",
       "      }\n",
       "      quickchartButtonEl.classList.remove('colab-df-spinner');\n",
       "      quickchartButtonEl.classList.add('colab-df-quickchart-complete');\n",
       "    }\n",
       "    (() => {\n",
       "      let quickchartButtonEl =\n",
       "        document.querySelector('#df-23db3cc6-ae32-4046-93f8-df7782558f96 button');\n",
       "      quickchartButtonEl.style.display =\n",
       "        google.colab.kernel.accessAllowed ? 'block' : 'none';\n",
       "    })();\n",
       "  </script>\n",
       "</div>\n",
       "\n",
       "    </div>\n",
       "  </div>\n"
      ],
      "application/vnd.google.colaboratory.intrinsic+json": {
       "type": "dataframe",
       "variable_name": "df",
       "summary": "{\n  \"name\": \"df\",\n  \"rows\": 962,\n  \"fields\": [\n    {\n      \"column\": \"Category\",\n      \"properties\": {\n        \"dtype\": \"category\",\n        \"num_unique_values\": 25,\n        \"samples\": [\n          \"Civil Engineer\",\n          \"DevOps Engineer\",\n          \"Data Science\"\n        ],\n        \"semantic_type\": \"\",\n        \"description\": \"\"\n      }\n    },\n    {\n      \"column\": \"Normalized_Resume\",\n      \"properties\": {\n        \"dtype\": \"category\",\n        \"num_unique_values\": 166,\n        \"samples\": [\n          \"KEY COMPETENCIES Multi Operations ManagementPeople Management Customer Services Emails MIS Vendor Client Services ManagementCross Functional CoordinationBanking Financial Services Transaction Monitoring ATM Operations Prepaid Card Operations PreIssuance PostIssuance POS Operations JOB PROFILE SKILLS An effective communicator with excellent relationship building interpersonal skills Strong analytical problem solving organizational abilities Extensive experience in managing operations with demonstrated leadership qualities organisational skills during the tenure Managing customer centric operations ensuring customer satisfaction by achieving service quality norms Analyzing of all operational problems customer complaints and take preventive and corrective actions to resolve the same Receive and respond to Key customer inquiries in an effective manner and provide relevant and timely information Deft in steering banking backend operations analyzing risks and managing delinquencies with dexterity across applying techniques for maximizing recoveries and minimizing credit losses Analyzed identified training needs of the team members and developing organizing and conducting training programs and manage bottom quartile team to improve their performance Preparing and maintaining daily MIS reports to evaluate the performance and efficiency of the process relate to various verticals Measuring the performance of the processes in terms of efficiency and effectiveness matrix and ensuring adherence to SLA Major Activities Define processes for Field Services were monitored and necessary checks were executed and controlled Also measured Vendor SLA by analyzing the TAT of vendors the Client SLA provided to us As per company procedures handling ensuring vendors payment issues to be sorted out payments are processed on quarterly basis Appropriately plan and execute each skill of operations in accordance with the departments policies and procedures Manage relationships with business team software development team and other services to achieve project objectives Different software Worked till now a CTL prime Axis Bank Credit Cards b Insight For POS Machine technical operations for Amex MID TID Generation ATOS Venture Infotek c Ticket Management System TATA Communications Private Services Ltd ATM NOC Operations d Branch Portal Yalamanchili Software Exports Ltd Prepaid Cards SBI Bank Zaggle Prepaid Oceans Services Ltd Zaggle Prepaid Ocean Services Pvt Ltd Oct to Till Date Designation Manager Operations Payment Industry Prepaid Cards INR Education Details Commerce Mumbai Maharashtra Mumbai University Operations Manager Service Manager Operations Payment Industry Prepaid Cards INR FTC Skill Details OPERATIONS Exprience 73 months SATISFACTION Exprience 48 months TRAINING Exprience 24 months NOC Exprience 23 months POINT OF SALE Exprience 20 monthsCompany Details company Zaggle Prepaid Ocean Services Pvt Ltd description Card Operations company Yalamanchili Software Exports Ltd description 247 Operations Pvt Ltd Dec to Feb Designation Service Manager Operations Payment Industry Prepaid Cards INR FTC Key Contributions A resultoriented business professional in planning executing managing processes improving efficiency of operations team building and detailing process information to determine effective result into operations Ensuring PINs generation SLA is maintained and chargeback cases are raised in perfect timeframe Managing email customer services properly and ensuring the emails are replied properly Also ensuring transaction monitoring is properly managed 247 Assisting Bankers SBI Associated Banks for their BCP plans by getting executed in the system with the help of DRPR plans vice versa or any other business requirements Expertise in maintaining highest level of quality in operations ensuring adherence to all the quality parameters and procedures as per the stringent norms Lead manage and supervise the execution of external audit engagements and responsible for presenting the findings developing a quality reports to the senior Management and Clients Coachmentor 20 team members to perform at a higher level by giving opportunities providing timely continuous feedback and working with staff to improve their communication time management decision making organization and analytical skills Providing the solutions and services to the client in their own premises with aforesaid count of team members Also ensuring end to end process of PR DR as per client requirements PR DR DR PR by interacting with internal external stakeholders Determining process gaps and designing conducting training programs to enhance operational efficiency and retain talent by providing optimum opportunities for personal and professional growth company Credit Cards description Ensured highest standard of customer satisfaction and quality service developing new policies and procedures to improve based on customer feedback and resolving customer queries via correspondence inbound calls email channels with the strength of 1216 Team members company AGS Transact Technologies Limited description Key Contributions Lead SPOC to Banks company TATA Communications Payment Solutions Ltd description To make ATMs operational within TAT by analyzing the issue is technical or nontechnical and also by interacting with internal external stakeholders company Vertex Customer Solutions India Private Ltd description Key Contributions Build positive working relationship with all team members and clients by keeping Management informed of KYC document collection concurrent audit progress responding timely to Management inquiries understanding the business and conducting self professionally company Financial Inclusion Network Operations Limited description Key Contributions POSOperations Cascading the adherence of process is strictly followed by team members training them to reduce the downtime Managing Stock of EDC Terminals Managing Deployments of terminals through Multiple teams Would have worked with multiple terminal make model Managing Inward Outward QC of applications installed in the POS machines company Venture Infotek Private Ltd description Key Contributions POSOperations company Axis Bank Ltd Customer Services description Aug to Oct MaFoiI smart Designation Team LeaderExecutive Emails Phone Banking Correspondence Unit Snail Mails\",\n          \"Skill Set Hadoop Map Reduce HDFS Hive Sqoop java Duration to Role Hadoop Developer Rplus offers an quick simple and powerful cloud based Solution Demand Sense to accurately predict demand for your product in all your markets which Combines Enterprise and External Data to predict demand more accurately through Uses Social Conversation and Sentiments to derive demand and Identifies significant drivers of sale out of hordes of factors that Selects the best suited model out of multiple forecasting models for each product Responsibilities Involved in deploying the product for customers gathering requirements and algorithm optimization at backend of the product Load and transform Large Datasets of structured semi structured Responsible to manage data coming from different sources and application Supported Map Reduce Programs those are running on the cluster Involved in creating Hive tables loading with data and writing hive queries which will run internally in map reduce wayEducation Details Hadoop Developer Hadoop Developer Braindatawire Skill Details APACHE HADOOP HDFS Exprience 49 months APACHE HADOOP SQOOP Exprience 49 months Hadoop Exprience 49 months HADOOP Exprience 49 months HADOOP DISTRIBUTED FILE SYSTEM Exprience 49 monthsCompany Details company Braindatawire description Technical Skills Programming Core Java Map Reduce Scala Hadoop Tools HDFS Spark Map Reduce Sqoop Hive Hbase Database MySQL Oracle Scripting Shell Scripting IDE Eclipse Operating Systems Linux CentOS Windows Source Control Git Github\",\n          \"IT Skills Area Exposure Modeling Tool Bizagi MS Visio Prototyping Tool Indigo Studio Documentation MS Office MS Word MS Excel MS Power Point Testing Proficiency Smoke Sanity Integration Functional Acceptance and UI Methodology implemented Waterfall Agile Scrum Database SQL Testing Tool HPQC Business Exposure Education Details Bachelor Of Computer Engineering Computer Engineering Mumbai Maharashtra Thadomal Shahani Engineering college Diploma Computer Engineering Ulhasnagar Maharashtra Institute of Technology Secondary School Certificate Ulhasnagar Maharashtra New English High School Senior Business Analyst RPA Senior Business Analyst RPA Hexaware Technologies Skill Details DOCUMENTATION Exprience 47 months TESTING Exprience 29 months INTEGRATION Exprience 25 months INTEGRATOR Exprience 25 months PROTOTYPE Exprience 13 monthsCompany Details company Hexaware Technologies description Working as a RPA Business Analyst company BBH Brown Brothers Harriman Co description is a private bank that provides commercial banking investment management brokerage and trust services to private companies and individuals It also performs merger advisory foreign exchange custody services commercial banking and corporate financing services Responsibilities Performed Automation Assessment of various Processes and identified processes which can be candidates of RPA Conducting Assessment that involves an initial Understanding of the Existing System their technology processes Usage of the tools Feasibility of tool with automation tool along with automation ROI analysis Preparing the Automation Potential Sheet which describes the steps in the process the volume and frequency of the transaction the AHT taken by SME to perform the process and depending on the steps that could be automated Automation potential and the manual efforts that will be saved are calculated Calculating the complexity of the Process which is considered for automation and depending on all these factors Number of Bots and Number of Automation tool Licenses are determined Implementing a Proof of Concept POC to Validate Feasibility by executing the selected critical use cases for conducting a POC which will helps to identify financial and operational benefits and provide recommendations regarding the actual need for complete automation Gathering business requirements by conducting detailed interviews with business users stakeholders and Subject Matter Experts SMEs Preparing Business Requirement Document and then converted Business requirements into Functional Requirements Specification Constructing prototype early toward a design acceptable to the customer and feasible Assisting in designing test plans test scenarios and test cases for integration regression and user acceptance testing UAT to improve the overall quality of the Automation Participating regularly in Walkthroughs and Review meetings with Project Manager QA Engineers and Development team Regularly interacting with offshore and onshore development teams company FADV First Advantage description is a criminal background check company that delivers global solutions ranging from employment screenings to background checks The following are the processes which were covered Email Process Research Process Review Process Responsibilities Requirement Gathering through conducting Interviews Brainstorming sessions with stakeholders To develop decision models and execute those rules as per the use case specifications To Testvalidate the decision models against document test data To maintain and enhance the decision models for changes in regulations as per use case specifications Responsible for performing the business research that will make a business growth Developing a clear understanding of existing business functions and processes Effectively communicate with the onsite clients for the queries suggestions and update Giving suggestions to enhance the current processes Identifying areas for process improvement Flagging up potential problems at an early stage Preparing PowerPoint presentations and documents for business meetings Using any information gathered to write up detailed reports Highlighting risks and issues that could impact project delivery Able to work accurately To develop and maintain documentation for internal team training and client end user operations To work efficiently with team members and across teams To mentor and train junior team members company Clinical Testing Lab Work and Diagnostic Testing description IQVIA provides services to its customers this includes Clinical Testing Lab Work and Diagnostic Testing under clinical trial These customers need to pay to IQVIA and aging details and invoices are generated for the same The following are the processes which were covered Tracking Payments Automated Real Time Metrics Reporting Dashboard Past Due Notifications AR Statements CreditRebill Responsibilities Conducting meetings with clients and key stakeholders to gather requirements analyze finalize and have formal signoffs from approvers Gather and perform analysis of the business requirements Translating the business requirements into the Business Requirement Document BRD Functional Requirement Document FRD Facilitating meetings with the appropriate subject matter experts in both business and technology teams Coordinating with business user community for the execution of user acceptance test as well as tracking issues Working collaborating and coordinating with Offshore and Onsite team members to fulfill the BA responsibilities from project initiation to PostImplementation Reviewing the test scripts with business users as well as technology team Execute test scripts with expected results for the System Integration Test SIT and User Acceptance Test UAT Coordinating and conducting the Production Acceptance Testing PAT with the business users Creating flow diagrams structure charts and other types of system or process representations Managing changes to requirements and baseline through a change control process Utilizing standard methods design and testing tools throughout project development life cycle Work closely with the operational functional teams operations management and personnel and various technology teams to facilitate a shared understanding of requirements and priorities across all areas company Eduavenir IT Solution description Project MBMS MBMS is an Inventory management application that allows user to manage inventory details of different warehouses having different products located at various locations and help extract what goods have been procured sold or returned by customers It generates automated invoicesalong withcustomized reports It also managescustomer complaint and resolution system implementation along with automated MIS on monthly basisSales and forecastingis also developed on MIS System and the streamlining of process of warehousing and dispatch along with online proof of delivery management system POD documentation is generated Responsibilities Participate in requirement gathering discussion with client to understand the flow of business processes Analyze the requirements and determine the core processes develop Process Documentation and ensure to stay uptodate in conjunction with ongoing changes Participate in process flow analysis and preparing BRD SRS Coordinating with developers designers operations teams for various nuances of the project communicate the stakeholder requirements from requirement enhancement to implementation and finally deliver the same within estimated timeframe Support UAT by reviewing test cases manage version control of documents software builds Coordinate with the stakeholders for UAT sign off and coordinate internally for production movement till Golive stage of the application Provide demo and training to internal and end user using PowerPoint presentation Resolving project functional technical issues during UAT Prioritizing the Production bugs and resolving the same within the estimated timeframe Preparing Project Status Report and Production Bugs Status to all the stakeholders Promoting and Networking for online trading platform Designing query sheet for obtaining and comparison of quotes from various vendors Development of product codes material codes for inventory management Master Data Management company CAPGEMINI Head Office description Type Mobile and Device Testing Duration January August Follet An application which takes an electronic request from the user for the books he requires from a particular follet store This detailed information about books that will include the name of the book its price the date of the transaction and the parties involved which will then be sent to follet stores User then create request for one or more books for a given date This request is then processed further and user gets a mail of the date when he will be provided with that book Responsibilities Understanding the needs and business requirements Preparing BRD SRS by eliciting all the requirements from the client and SMEs Understanding the dependency of the modules in the system Preparation of test plan for Unit level and Integration level Preparation and execution of test cases Defect tracking Issue Resolution Risk Monitoring Status Tracking Reporting and Followup Preparation of Test Completion report company CAPGEMINI Head Office description company CAPGEMINI Head Office description Humana is a health care insurance project of US which deals with supplying various medicines to citizens as per the doctors reference and patients insurance policy This application keeps track of all the medicines user has consumed in the past and generates a patient history A citizen is given a drug only after the doctors reference so the doctors information is also linked with the patients history Responsibilities Understanding the requirements and getting clarifications from client Involved in writing test cases based on test scenarios and execute them Ensuring Test Coverage using Requirement Traceability Matrix RTM Preparation of Test Completion report company CAPGEMINI Head Office description Testing Trends WQR World Quality Report is an application which allows the users to take a survey on different methods and technologies used for testing Users can choose to answer any type of questions under three different categories Users have a facility to search view and export the data to excel Also users get daily and weekly reports through email about the new trends in testing implemented around the globe Testing Trends WQR app is available on Android and IOS platforms Responsibilities Understanding the requirements and getting clarifications from client Writing test cases based on test scenarios and executed them Performing different types of testing such as Functional Integration System and UAT Defect resolution and maintenance of the application\"\n        ],\n        \"semantic_type\": \"\",\n        \"description\": \"\"\n      }\n    }\n  ]\n}"
      }
     },
     "metadata": {},
     "execution_count": 2
    }
   ],
   "execution_count": 2
  },
  {
   "cell_type": "markdown",
   "source": [
    "# Split the data\n",
    "Split dataset into train and vakud **sets**"
   ],
   "metadata": {
    "id": "PbG3CtZ82ymg"
   },
   "id": "PbG3CtZ82ymg"
  },
  {
   "cell_type": "code",
   "source": [
    "train_df, valid_df = train_test_split(df, test_size=0.2, random_state=42)"
   ],
   "metadata": {
    "id": "2uxkRrrs3xj-"
   },
   "id": "2uxkRrrs3xj-",
   "execution_count": 3,
   "outputs": []
  },
  {
   "cell_type": "code",
   "source": [
    "train_df.shape, valid_df.shape"
   ],
   "metadata": {
    "colab": {
     "base_uri": "https://localhost:8080/"
    },
    "id": "25bsEb5U31S_",
    "outputId": "b11bd63f-d660-480d-aafa-f2d8867347c1"
   },
   "id": "25bsEb5U31S_",
   "execution_count": 4,
   "outputs": [
    {
     "output_type": "execute_result",
     "data": {
      "text/plain": [
       "((769, 2), (193, 2))"
      ]
     },
     "metadata": {},
     "execution_count": 4
    }
   ]
  },
  {
   "cell_type": "markdown",
   "source": [
    "# Create DataLoaders\n",
    "\n",
    "Create dataloaders for train and valid sets"
   ],
   "metadata": {
    "id": "YeurhRwT361j"
   },
   "id": "YeurhRwT361j"
  },
  {
   "cell_type": "code",
   "source": [
    "dls = TextDataLoaders.from_df(train_df,\n",
    "                              valid_df=valid_df,\n",
    "                              text_col='Normalized_Resume',\n",
    "                              label_col='Category',\n",
    "                              is_lm=False,\n",
    "                              bs=32)\n",
    "dls.show_batch()"
   ],
   "metadata": {
    "colab": {
     "base_uri": "https://localhost:8080/",
     "height": 1000
    },
    "id": "QxkJJM2e4FG1",
    "outputId": "0f670db1-2c9e-48f6-be6f-81afcf5aa3bc"
   },
   "id": "QxkJJM2e4FG1",
   "execution_count": 5,
   "outputs": [
    {
     "output_type": "display_data",
     "data": {
      "text/plain": [
       "<IPython.core.display.HTML object>"
      ],
      "text/html": [
       "\n",
       "<style>\n",
       "    /* Turns off some styling */\n",
       "    progress {\n",
       "        /* gets rid of default border in Firefox and Opera. */\n",
       "        border: none;\n",
       "        /* Needs to be in here for Safari polyfill so background images work as expected. */\n",
       "        background-size: auto;\n",
       "    }\n",
       "    progress:not([value]), progress:not([value])::-webkit-progress-bar {\n",
       "        background: repeating-linear-gradient(45deg, #7e7e7e, #7e7e7e 10px, #5c5c5c 10px, #5c5c5c 20px);\n",
       "    }\n",
       "    .progress-bar-interrupted, .progress-bar-interrupted::-webkit-progress-bar {\n",
       "        background: #F44336;\n",
       "    }\n",
       "</style>\n"
      ]
     },
     "metadata": {}
    },
    {
     "output_type": "display_data",
     "data": {
      "text/plain": [
       "<IPython.core.display.HTML object>"
      ],
      "text/html": []
     },
     "metadata": {}
    },
    {
     "output_type": "display_data",
     "data": {
      "text/plain": [
       "<IPython.core.display.HTML object>"
      ],
      "text/html": [
       "<table border=\"1\" class=\"dataframe\">\n",
       "  <thead>\n",
       "    <tr style=\"text-align: right;\">\n",
       "      <th></th>\n",
       "      <th>text</th>\n",
       "      <th>category</th>\n",
       "    </tr>\n",
       "  </thead>\n",
       "  <tbody>\n",
       "    <tr>\n",
       "      <th>0</th>\n",
       "      <td>xxbos xxmaj education xxmaj details xxmaj august xxup be xxmaj electronics xxmaj pune xxmaj maharashtra xxmaj pune xxmaj university xxmaj operations xxmaj manager xxmaj operations xxmaj manager xxmaj delta xxmaj controls xxmaj dubai xxup fzco xxmaj skill xxmaj details xxmaj company xxmaj details company xxmaj delta xxmaj controls xxmaj dubai xxup fzco description xxmaj heading xxmaj pune xxmaj branch xxmaj ms xxmaj deltannex xxmaj integrators xxmaj pvt xxmaj ltd xxmaj from xxmaj aug 17 till date xxmaj designation xxmaj operations xxmaj manager 1st xxmaj employee 1 xxmaj reporting to the gmoperations 2 xxmaj review of xxup sow xxup rfq xxmaj assist the proposal xxmaj team on the xxmaj engineering man hours xxmaj project xxmaj schedule xxmaj organization xxmaj chart and xxmaj meeting the client for presales support 3 xxmaj review of xxup sow xxup rfq xxmaj clients xxmaj purchase xxmaj order or contract terms conditions 4 xxmaj project xxmaj execution</td>\n",
       "      <td>Operations Manager</td>\n",
       "    </tr>\n",
       "    <tr>\n",
       "      <th>1</th>\n",
       "      <td>xxbos xxmaj education xxmaj details xxmaj august xxup be xxmaj electronics xxmaj pune xxmaj maharashtra xxmaj pune xxmaj university xxmaj operations xxmaj manager xxmaj operations xxmaj manager xxmaj delta xxmaj controls xxmaj dubai xxup fzco xxmaj skill xxmaj details xxmaj company xxmaj details company xxmaj delta xxmaj controls xxmaj dubai xxup fzco description xxmaj heading xxmaj pune xxmaj branch xxmaj ms xxmaj deltannex xxmaj integrators xxmaj pvt xxmaj ltd xxmaj from xxmaj aug 17 till date xxmaj designation xxmaj operations xxmaj manager 1st xxmaj employee 1 xxmaj reporting to the gmoperations 2 xxmaj review of xxup sow xxup rfq xxmaj assist the proposal xxmaj team on the xxmaj engineering man hours xxmaj project xxmaj schedule xxmaj organization xxmaj chart and xxmaj meeting the client for presales support 3 xxmaj review of xxup sow xxup rfq xxmaj clients xxmaj purchase xxmaj order or contract terms conditions 4 xxmaj project xxmaj execution</td>\n",
       "      <td>Operations Manager</td>\n",
       "    </tr>\n",
       "    <tr>\n",
       "      <th>2</th>\n",
       "      <td>xxbos xxmaj education xxmaj details xxmaj august xxup be xxmaj electronics xxmaj pune xxmaj maharashtra xxmaj pune xxmaj university xxmaj operations xxmaj manager xxmaj operations xxmaj manager xxmaj delta xxmaj controls xxmaj dubai xxup fzco xxmaj skill xxmaj details xxmaj company xxmaj details company xxmaj delta xxmaj controls xxmaj dubai xxup fzco description xxmaj heading xxmaj pune xxmaj branch xxmaj ms xxmaj deltannex xxmaj integrators xxmaj pvt xxmaj ltd xxmaj from xxmaj aug 17 till date xxmaj designation xxmaj operations xxmaj manager 1st xxmaj employee 1 xxmaj reporting to the gmoperations 2 xxmaj review of xxup sow xxup rfq xxmaj assist the proposal xxmaj team on the xxmaj engineering man hours xxmaj project xxmaj schedule xxmaj organization xxmaj chart and xxmaj meeting the client for presales support 3 xxmaj review of xxup sow xxup rfq xxmaj clients xxmaj purchase xxmaj order or contract terms conditions 4 xxmaj project xxmaj execution</td>\n",
       "      <td>Operations Manager</td>\n",
       "    </tr>\n",
       "    <tr>\n",
       "      <th>3</th>\n",
       "      <td>xxbos xxmaj education xxmaj details xxmaj august xxup be xxmaj electronics xxmaj pune xxmaj maharashtra xxmaj pune xxmaj university xxmaj operations xxmaj manager xxmaj operations xxmaj manager xxmaj delta xxmaj controls xxmaj dubai xxup fzco xxmaj skill xxmaj details xxmaj company xxmaj details company xxmaj delta xxmaj controls xxmaj dubai xxup fzco description xxmaj heading xxmaj pune xxmaj branch xxmaj ms xxmaj deltannex xxmaj integrators xxmaj pvt xxmaj ltd xxmaj from xxmaj aug 17 till date xxmaj designation xxmaj operations xxmaj manager 1st xxmaj employee 1 xxmaj reporting to the gmoperations 2 xxmaj review of xxup sow xxup rfq xxmaj assist the proposal xxmaj team on the xxmaj engineering man hours xxmaj project xxmaj schedule xxmaj organization xxmaj chart and xxmaj meeting the client for presales support 3 xxmaj review of xxup sow xxup rfq xxmaj clients xxmaj purchase xxmaj order or contract terms conditions 4 xxmaj project xxmaj execution</td>\n",
       "      <td>Operations Manager</td>\n",
       "    </tr>\n",
       "    <tr>\n",
       "      <th>4</th>\n",
       "      <td>xxbos xxmaj education xxmaj details xxmaj august xxup be xxmaj electronics xxmaj pune xxmaj maharashtra xxmaj pune xxmaj university xxmaj operations xxmaj manager xxmaj operations xxmaj manager xxmaj delta xxmaj controls xxmaj dubai xxup fzco xxmaj skill xxmaj details xxmaj company xxmaj details company xxmaj delta xxmaj controls xxmaj dubai xxup fzco description xxmaj heading xxmaj pune xxmaj branch xxmaj ms xxmaj deltannex xxmaj integrators xxmaj pvt xxmaj ltd xxmaj from xxmaj aug 17 till date xxmaj designation xxmaj operations xxmaj manager 1st xxmaj employee 1 xxmaj reporting to the gmoperations 2 xxmaj review of xxup sow xxup rfq xxmaj assist the proposal xxmaj team on the xxmaj engineering man hours xxmaj project xxmaj schedule xxmaj organization xxmaj chart and xxmaj meeting the client for presales support 3 xxmaj review of xxup sow xxup rfq xxmaj clients xxmaj purchase xxmaj order or contract terms conditions 4 xxmaj project xxmaj execution</td>\n",
       "      <td>Operations Manager</td>\n",
       "    </tr>\n",
       "    <tr>\n",
       "      <th>5</th>\n",
       "      <td>xxbos xxmaj education xxmaj details xxmaj august xxup be xxmaj electronics xxmaj pune xxmaj maharashtra xxmaj pune xxmaj university xxmaj operations xxmaj manager xxmaj operations xxmaj manager xxmaj delta xxmaj controls xxmaj dubai xxup fzco xxmaj skill xxmaj details xxmaj company xxmaj details company xxmaj delta xxmaj controls xxmaj dubai xxup fzco description xxmaj heading xxmaj pune xxmaj branch xxmaj ms xxmaj deltannex xxmaj integrators xxmaj pvt xxmaj ltd xxmaj from xxmaj aug 17 till date xxmaj designation xxmaj operations xxmaj manager 1st xxmaj employee 1 xxmaj reporting to the gmoperations 2 xxmaj review of xxup sow xxup rfq xxmaj assist the proposal xxmaj team on the xxmaj engineering man hours xxmaj project xxmaj schedule xxmaj organization xxmaj chart and xxmaj meeting the client for presales support 3 xxmaj review of xxup sow xxup rfq xxmaj clients xxmaj purchase xxmaj order or contract terms conditions 4 xxmaj project xxmaj execution</td>\n",
       "      <td>Operations Manager</td>\n",
       "    </tr>\n",
       "    <tr>\n",
       "      <th>6</th>\n",
       "      <td>xxbos xxmaj education xxmaj details xxmaj august xxup be xxmaj electronics xxmaj pune xxmaj maharashtra xxmaj pune xxmaj university xxmaj operations xxmaj manager xxmaj operations xxmaj manager xxmaj delta xxmaj controls xxmaj dubai xxup fzco xxmaj skill xxmaj details xxmaj company xxmaj details company xxmaj delta xxmaj controls xxmaj dubai xxup fzco description xxmaj heading xxmaj pune xxmaj branch xxmaj ms xxmaj deltannex xxmaj integrators xxmaj pvt xxmaj ltd xxmaj from xxmaj aug 17 till date xxmaj designation xxmaj operations xxmaj manager 1st xxmaj employee 1 xxmaj reporting to the gmoperations 2 xxmaj review of xxup sow xxup rfq xxmaj assist the proposal xxmaj team on the xxmaj engineering man hours xxmaj project xxmaj schedule xxmaj organization xxmaj chart and xxmaj meeting the client for presales support 3 xxmaj review of xxup sow xxup rfq xxmaj clients xxmaj purchase xxmaj order or contract terms conditions 4 xxmaj project xxmaj execution</td>\n",
       "      <td>Operations Manager</td>\n",
       "    </tr>\n",
       "    <tr>\n",
       "      <th>7</th>\n",
       "      <td>xxbos xxup it xxup skills xxmaj well versed with xxup ms xxmaj office and xxmaj internet xxmaj applications and various xxup erp systems implemented in the company iesage xxmaj flotilla xxup lm xxup erp xxmaj tally 9 xxup wms xxmaj exceed etc xxup personal xxup dossier xxmaj permanent xxmaj address xxmaj bandra xxmaj west xxmaj mumbai 400 050education xxmaj details bcom commerce xxmaj mumbai xxmaj maharashtra xxmaj bombay xxmaj university xxmaj mumbai xxmaj maharashtra xxmaj st xxmaj andrews xxmaj college xxup dim xxmaj business xxmaj management xxup ignou xxmaj operations xxmaj manager xxmaj operations xxmaj manager xxmaj landmark xxmaj insurance xxmaj brokers xxmaj pvt xxmaj ltd xxmaj skill xxmaj details xxup employee xxup resource xxup group xxmaj exprience 6 months xxup enterprise xxup resource xxup planning xxmaj exprience 6 months xxup erp xxmaj exprience 6 months xxup ms xxup office xxmaj exprience 6 months xxmaj tally xxmaj exprience 6 monthscompany</td>\n",
       "      <td>Operations Manager</td>\n",
       "    </tr>\n",
       "    <tr>\n",
       "      <th>8</th>\n",
       "      <td>xxbos xxup it xxup skills xxmaj well versed with xxup ms xxmaj office and xxmaj internet xxmaj applications and various xxup erp systems implemented in the company iesage xxmaj flotilla xxup lm xxup erp xxmaj tally 9 xxup wms xxmaj exceed etc xxup personal xxup dossier xxmaj permanent xxmaj address xxmaj bandra xxmaj west xxmaj mumbai 400 050education xxmaj details bcom commerce xxmaj mumbai xxmaj maharashtra xxmaj bombay xxmaj university xxmaj mumbai xxmaj maharashtra xxmaj st xxmaj andrews xxmaj college xxup dim xxmaj business xxmaj management xxup ignou xxmaj operations xxmaj manager xxmaj operations xxmaj manager xxmaj landmark xxmaj insurance xxmaj brokers xxmaj pvt xxmaj ltd xxmaj skill xxmaj details xxup employee xxup resource xxup group xxmaj exprience 6 months xxup enterprise xxup resource xxup planning xxmaj exprience 6 months xxup erp xxmaj exprience 6 months xxup ms xxup office xxmaj exprience 6 months xxmaj tally xxmaj exprience 6 monthscompany</td>\n",
       "      <td>Operations Manager</td>\n",
       "    </tr>\n",
       "  </tbody>\n",
       "</table>"
      ]
     },
     "metadata": {}
    }
   ]
  },
  {
   "cell_type": "markdown",
   "source": [
    "# Train the model"
   ],
   "metadata": {
    "id": "gLgrtsed4hm9"
   },
   "id": "gLgrtsed4hm9"
  },
  {
   "cell_type": "code",
   "source": [
    "learn = text_classifier_learner(dls, AWD_LSTM, loss_func=CrossEntropyLossFlat(), metrics=[accuracy])"
   ],
   "metadata": {
    "id": "vcGk2sSlAq32"
   },
   "id": "vcGk2sSlAq32",
   "execution_count": 6,
   "outputs": []
  },
  {
   "cell_type": "markdown",
   "source": [
    "finding appropriate learning rate"
   ],
   "metadata": {
    "id": "wIUewf5xAwRt"
   },
   "id": "wIUewf5xAwRt"
  },
  {
   "cell_type": "code",
   "source": [
    "lr_min, lr_steep = learn.lr_find(suggest_funcs=(minimum, steep))"
   ],
   "metadata": {
    "colab": {
     "base_uri": "https://localhost:8080/",
     "height": 454
    },
    "id": "gU18jbzsAzuY",
    "outputId": "26bb8ea4-9202-4ef8-f933-8e3b758c5fd1"
   },
   "id": "gU18jbzsAzuY",
   "execution_count": 7,
   "outputs": [
    {
     "output_type": "display_data",
     "data": {
      "text/plain": [
       "<IPython.core.display.HTML object>"
      ],
      "text/html": [
       "\n",
       "<style>\n",
       "    /* Turns off some styling */\n",
       "    progress {\n",
       "        /* gets rid of default border in Firefox and Opera. */\n",
       "        border: none;\n",
       "        /* Needs to be in here for Safari polyfill so background images work as expected. */\n",
       "        background-size: auto;\n",
       "    }\n",
       "    progress:not([value]), progress:not([value])::-webkit-progress-bar {\n",
       "        background: repeating-linear-gradient(45deg, #7e7e7e, #7e7e7e 10px, #5c5c5c 10px, #5c5c5c 20px);\n",
       "    }\n",
       "    .progress-bar-interrupted, .progress-bar-interrupted::-webkit-progress-bar {\n",
       "        background: #F44336;\n",
       "    }\n",
       "</style>\n"
      ]
     },
     "metadata": {}
    },
    {
     "output_type": "display_data",
     "data": {
      "text/plain": [
       "<IPython.core.display.HTML object>"
      ],
      "text/html": []
     },
     "metadata": {}
    },
    {
     "output_type": "display_data",
     "data": {
      "text/plain": [
       "<Figure size 640x480 with 1 Axes>"
      ],
      "image/png": "[encoded data removed]"
     },
     "metadata": {}
    }
   ]
  },
  {
   "cell_type": "code",
   "source": [
    "lr_min, lr_steep"
   ],
   "metadata": {
    "colab": {
     "base_uri": "https://localhost:8080/"
    },
    "id": "1OkB-t6JA1mr",
    "outputId": "41aa0018-53ca-468b-964f-05cdb25068aa"
   },
   "id": "1OkB-t6JA1mr",
   "execution_count": 8,
   "outputs": [
    {
     "output_type": "execute_result",
     "data": {
      "text/plain": [
       "(0.03019951581954956, 0.12022644281387329)"
      ]
     },
     "metadata": {},
     "execution_count": 8
    }
   ]
  },
  {
   "cell_type": "markdown",
   "source": [
    "- it seems that learning rate 0.03 will be appropriate"
   ],
   "metadata": {
    "id": "uk6JrO5GBdq5"
   },
   "id": "uk6JrO5GBdq5"
  },
  {
   "cell_type": "code",
   "source": [
    "learn.fit_one_cycle(8, lr_min)"
   ],
   "metadata": {
    "colab": {
     "base_uri": "https://localhost:8080/",
     "height": 300
    },
    "id": "e7QPsCCM4me9",
    "outputId": "54ed9ca7-b5ec-419b-c58b-6e7787fb5e6c"
   },
   "id": "e7QPsCCM4me9",
   "execution_count": 9,
   "outputs": [
    {
     "output_type": "display_data",
     "data": {
      "text/plain": [
       "<IPython.core.display.HTML object>"
      ],
      "text/html": [
       "\n",
       "<style>\n",
       "    /* Turns off some styling */\n",
       "    progress {\n",
       "        /* gets rid of default border in Firefox and Opera. */\n",
       "        border: none;\n",
       "        /* Needs to be in here for Safari polyfill so background images work as expected. */\n",
       "        background-size: auto;\n",
       "    }\n",
       "    progress:not([value]), progress:not([value])::-webkit-progress-bar {\n",
       "        background: repeating-linear-gradient(45deg, #7e7e7e, #7e7e7e 10px, #5c5c5c 10px, #5c5c5c 20px);\n",
       "    }\n",
       "    .progress-bar-interrupted, .progress-bar-interrupted::-webkit-progress-bar {\n",
       "        background: #F44336;\n",
       "    }\n",
       "</style>\n"
      ]
     },
     "metadata": {}
    },
    {
     "output_type": "display_data",
     "data": {
      "text/plain": [
       "<IPython.core.display.HTML object>"
      ],
      "text/html": [
       "<table border=\"1\" class=\"dataframe\">\n",
       "  <thead>\n",
       "    <tr style=\"text-align: left;\">\n",
       "      <th>epoch</th>\n",
       "      <th>train_loss</th>\n",
       "      <th>valid_loss</th>\n",
       "      <th>accuracy</th>\n",
       "      <th>time</th>\n",
       "    </tr>\n",
       "  </thead>\n",
       "  <tbody>\n",
       "    <tr>\n",
       "      <td>0</td>\n",
       "      <td>3.005628</td>\n",
       "      <td>2.405031</td>\n",
       "      <td>0.483660</td>\n",
       "      <td>00:08</td>\n",
       "    </tr>\n",
       "    <tr>\n",
       "      <td>1</td>\n",
       "      <td>2.359572</td>\n",
       "      <td>1.690003</td>\n",
       "      <td>0.529412</td>\n",
       "      <td>00:08</td>\n",
       "    </tr>\n",
       "    <tr>\n",
       "      <td>2</td>\n",
       "      <td>1.993939</td>\n",
       "      <td>1.157918</td>\n",
       "      <td>0.692810</td>\n",
       "      <td>00:09</td>\n",
       "    </tr>\n",
       "    <tr>\n",
       "      <td>3</td>\n",
       "      <td>1.551855</td>\n",
       "      <td>0.638416</td>\n",
       "      <td>0.823529</td>\n",
       "      <td>00:09</td>\n",
       "    </tr>\n",
       "    <tr>\n",
       "      <td>4</td>\n",
       "      <td>1.134697</td>\n",
       "      <td>0.431232</td>\n",
       "      <td>0.915033</td>\n",
       "      <td>00:08</td>\n",
       "    </tr>\n",
       "    <tr>\n",
       "      <td>5</td>\n",
       "      <td>0.840521</td>\n",
       "      <td>0.285259</td>\n",
       "      <td>0.941176</td>\n",
       "      <td>00:09</td>\n",
       "    </tr>\n",
       "    <tr>\n",
       "      <td>6</td>\n",
       "      <td>0.635358</td>\n",
       "      <td>0.279669</td>\n",
       "      <td>0.928105</td>\n",
       "      <td>00:08</td>\n",
       "    </tr>\n",
       "    <tr>\n",
       "      <td>7</td>\n",
       "      <td>0.479327</td>\n",
       "      <td>0.275828</td>\n",
       "      <td>0.941176</td>\n",
       "      <td>00:08</td>\n",
       "    </tr>\n",
       "  </tbody>\n",
       "</table>"
      ]
     },
     "metadata": {}
    }
   ]
  },
  {
   "metadata": {
    "id": "f04e3fe53bba3bd0"
   },
   "cell_type": "markdown",
   "source": [
    "# Validate with valid_df\n",
    "Get predictions and targets"
   ],
   "id": "f04e3fe53bba3bd0"
  },
  {
   "metadata": {
    "colab": {
     "base_uri": "https://localhost:8080/",
     "height": 34
    },
    "id": "bcd03c1f47264049",
    "outputId": "35042e19-1a1d-4857-a207-d88e98365823"
   },
   "cell_type": "code",
   "source": [
    "val_preds, val_targets = learn.get_preds()\n",
    "val_accuracy = accuracy(val_preds, val_targets)\n",
    "print(f'Validation accuracy: {val_accuracy}')"
   ],
   "id": "bcd03c1f47264049",
   "outputs": [
    {
     "output_type": "display_data",
     "data": {
      "text/plain": [
       "<IPython.core.display.HTML object>"
      ],
      "text/html": [
       "\n",
       "<style>\n",
       "    /* Turns off some styling */\n",
       "    progress {\n",
       "        /* gets rid of default border in Firefox and Opera. */\n",
       "        border: none;\n",
       "        /* Needs to be in here for Safari polyfill so background images work as expected. */\n",
       "        background-size: auto;\n",
       "    }\n",
       "    progress:not([value]), progress:not([value])::-webkit-progress-bar {\n",
       "        background: repeating-linear-gradient(45deg, #7e7e7e, #7e7e7e 10px, #5c5c5c 10px, #5c5c5c 20px);\n",
       "    }\n",
       "    .progress-bar-interrupted, .progress-bar-interrupted::-webkit-progress-bar {\n",
       "        background: #F44336;\n",
       "    }\n",
       "</style>\n"
      ]
     },
     "metadata": {}
    },
    {
     "output_type": "display_data",
     "data": {
      "text/plain": [
       "<IPython.core.display.HTML object>"
      ],
      "text/html": []
     },
     "metadata": {}
    },
    {
     "output_type": "stream",
     "name": "stdout",
     "text": [
      "Validation accuracy: TensorBase(0.9412)\n"
     ]
    }
   ],
   "execution_count": 13
  },
  {
   "metadata": {
    "id": "42ab205c62c42028"
   },
   "cell_type": "markdown",
   "source": [
    "compute classification report"
   ],
   "id": "42ab205c62c42028"
  },
  {
   "metadata": {
    "id": "51be5f87f4c69be5"
   },
   "cell_type": "code",
   "source": [
    "from sklearn.metrics import classification_report, confusion_matrix"
   ],
   "id": "51be5f87f4c69be5",
   "outputs": [],
   "execution_count": 14
  },
  {
   "metadata": {
    "id": "2ee43ed3ebd0bfc8",
    "colab": {
     "base_uri": "https://localhost:8080/",
     "height": 243
    },
    "outputId": "c1bb0395-f969-4c4b-d807-7e4eb7d520e3"
   },
   "cell_type": "code",
   "source": [
    "classification_report(val_targets, val_preds.argmax(dim=1))"
   ],
   "id": "2ee43ed3ebd0bfc8",
   "outputs": [
    {
     "output_type": "execute_result",
     "data": {
      "text/plain": [
       "'              precision    recall  f1-score   support\\n\\n           0       1.00      1.00      1.00         4\\n           1       1.00      1.00      1.00         9\\n           2       1.00      0.80      0.89         5\\n           3       1.00      1.00      1.00         2\\n           4       1.00      1.00      1.00         3\\n           5       0.67      1.00      0.80         2\\n           6       1.00      1.00      1.00         6\\n           7       0.80      1.00      0.89         4\\n           8       1.00      0.90      0.95        10\\n           9       1.00      1.00      1.00         3\\n          10       1.00      0.67      0.80         9\\n          11       1.00      1.00      1.00         3\\n          12       1.00      0.43      0.60         7\\n          13       1.00      1.00      1.00        10\\n          14       1.00      1.00      1.00         6\\n          15       0.91      1.00      0.95        10\\n          16       0.70      1.00      0.82         7\\n          17       0.67      1.00      0.80         6\\n          18       1.00      1.00      1.00         6\\n          19       1.00      1.00      1.00         5\\n          20       1.00      1.00      1.00         8\\n          21       1.00      1.00      1.00         3\\n          22       1.00      1.00      1.00         9\\n          23       1.00      1.00      1.00        11\\n          24       1.00      1.00      1.00         5\\n\\n    accuracy                           0.94       153\\n   macro avg       0.95      0.95      0.94       153\\nweighted avg       0.96      0.94      0.94       153\\n'"
      ],
      "application/vnd.google.colaboratory.intrinsic+json": {
       "type": "string"
      }
     },
     "metadata": {},
     "execution_count": 15
    }
   ],
   "execution_count": 15
  },
  {
   "metadata": {
    "id": "72d77b2c4ac563ca"
   },
   "cell_type": "markdown",
   "source": [
    "let's see confusion matrix"
   ],
   "id": "72d77b2c4ac563ca"
  },
  {
   "metadata": {
    "id": "f8f55954d6fd30c2",
    "colab": {
     "base_uri": "https://localhost:8080/"
    },
    "outputId": "a9841d8a-ae0c-453e-d04b-41a9b2d53451"
   },
   "cell_type": "code",
   "source": [
    "confusion_matrix(val_targets, val_preds.argmax(dim=1))"
   ],
   "id": "f8f55954d6fd30c2",
   "outputs": [
    {
     "output_type": "execute_result",
     "data": {
      "text/plain": [
       "array([[ 4,  0,  0,  0,  0,  0,  0,  0,  0,  0,  0,  0,  0,  0,  0,  0,\n",
       "         0,  0,  0,  0,  0,  0,  0,  0,  0],\n",
       "       [ 0,  9,  0,  0,  0,  0,  0,  0,  0,  0,  0,  0,  0,  0,  0,  0,\n",
       "         0,  0,  0,  0,  0,  0,  0,  0,  0],\n",
       "       [ 0,  0,  4,  0,  0,  0,  0,  0,  0,  0,  0,  0,  0,  0,  0,  1,\n",
       "         0,  0,  0,  0,  0,  0,  0,  0,  0],\n",
       "       [ 0,  0,  0,  2,  0,  0,  0,  0,  0,  0,  0,  0,  0,  0,  0,  0,\n",
       "         0,  0,  0,  0,  0,  0,  0,  0,  0],\n",
       "       [ 0,  0,  0,  0,  3,  0,  0,  0,  0,  0,  0,  0,  0,  0,  0,  0,\n",
       "         0,  0,  0,  0,  0,  0,  0,  0,  0],\n",
       "       [ 0,  0,  0,  0,  0,  2,  0,  0,  0,  0,  0,  0,  0,  0,  0,  0,\n",
       "         0,  0,  0,  0,  0,  0,  0,  0,  0],\n",
       "       [ 0,  0,  0,  0,  0,  0,  6,  0,  0,  0,  0,  0,  0,  0,  0,  0,\n",
       "         0,  0,  0,  0,  0,  0,  0,  0,  0],\n",
       "       [ 0,  0,  0,  0,  0,  0,  0,  4,  0,  0,  0,  0,  0,  0,  0,  0,\n",
       "         0,  0,  0,  0,  0,  0,  0,  0,  0],\n",
       "       [ 0,  0,  0,  0,  0,  0,  0,  1,  9,  0,  0,  0,  0,  0,  0,  0,\n",
       "         0,  0,  0,  0,  0,  0,  0,  0,  0],\n",
       "       [ 0,  0,  0,  0,  0,  0,  0,  0,  0,  3,  0,  0,  0,  0,  0,  0,\n",
       "         0,  0,  0,  0,  0,  0,  0,  0,  0],\n",
       "       [ 0,  0,  0,  0,  0,  0,  0,  0,  0,  0,  6,  0,  0,  0,  0,  0,\n",
       "         0,  3,  0,  0,  0,  0,  0,  0,  0],\n",
       "       [ 0,  0,  0,  0,  0,  0,  0,  0,  0,  0,  0,  3,  0,  0,  0,  0,\n",
       "         0,  0,  0,  0,  0,  0,  0,  0,  0],\n",
       "       [ 0,  0,  0,  0,  0,  1,  0,  0,  0,  0,  0,  0,  3,  0,  0,  0,\n",
       "         3,  0,  0,  0,  0,  0,  0,  0,  0],\n",
       "       [ 0,  0,  0,  0,  0,  0,  0,  0,  0,  0,  0,  0,  0, 10,  0,  0,\n",
       "         0,  0,  0,  0,  0,  0,  0,  0,  0],\n",
       "       [ 0,  0,  0,  0,  0,  0,  0,  0,  0,  0,  0,  0,  0,  0,  6,  0,\n",
       "         0,  0,  0,  0,  0,  0,  0,  0,  0],\n",
       "       [ 0,  0,  0,  0,  0,  0,  0,  0,  0,  0,  0,  0,  0,  0,  0, 10,\n",
       "         0,  0,  0,  0,  0,  0,  0,  0,  0],\n",
       "       [ 0,  0,  0,  0,  0,  0,  0,  0,  0,  0,  0,  0,  0,  0,  0,  0,\n",
       "         7,  0,  0,  0,  0,  0,  0,  0,  0],\n",
       "       [ 0,  0,  0,  0,  0,  0,  0,  0,  0,  0,  0,  0,  0,  0,  0,  0,\n",
       "         0,  6,  0,  0,  0,  0,  0,  0,  0],\n",
       "       [ 0,  0,  0,  0,  0,  0,  0,  0,  0,  0,  0,  0,  0,  0,  0,  0,\n",
       "         0,  0,  6,  0,  0,  0,  0,  0,  0],\n",
       "       [ 0,  0,  0,  0,  0,  0,  0,  0,  0,  0,  0,  0,  0,  0,  0,  0,\n",
       "         0,  0,  0,  5,  0,  0,  0,  0,  0],\n",
       "       [ 0,  0,  0,  0,  0,  0,  0,  0,  0,  0,  0,  0,  0,  0,  0,  0,\n",
       "         0,  0,  0,  0,  8,  0,  0,  0,  0],\n",
       "       [ 0,  0,  0,  0,  0,  0,  0,  0,  0,  0,  0,  0,  0,  0,  0,  0,\n",
       "         0,  0,  0,  0,  0,  3,  0,  0,  0],\n",
       "       [ 0,  0,  0,  0,  0,  0,  0,  0,  0,  0,  0,  0,  0,  0,  0,  0,\n",
       "         0,  0,  0,  0,  0,  0,  9,  0,  0],\n",
       "       [ 0,  0,  0,  0,  0,  0,  0,  0,  0,  0,  0,  0,  0,  0,  0,  0,\n",
       "         0,  0,  0,  0,  0,  0,  0, 11,  0],\n",
       "       [ 0,  0,  0,  0,  0,  0,  0,  0,  0,  0,  0,  0,  0,  0,  0,  0,\n",
       "         0,  0,  0,  0,  0,  0,  0,  0,  5]])"
      ]
     },
     "metadata": {},
     "execution_count": 16
    }
   ],
   "execution_count": 16
  },
  {
   "cell_type": "markdown",
   "source": [
    "exporting the model"
   ],
   "metadata": {
    "id": "tLia4WeCKzwo"
   },
   "id": "tLia4WeCKzwo"
  },
  {
   "cell_type": "code",
   "source": [
    "learn.export('resume_parser_model.pkl')"
   ],
   "metadata": {
    "id": "4VnjKjS1K3VF"
   },
   "id": "4VnjKjS1K3VF",
   "execution_count": 18,
   "outputs": []
  }
 ],
 "metadata": {
  "kernelspec": {
   "display_name": "Python 3",
   "name": "python3"
  },
  "language_info": {
   "codemirror_mode": {
    "name": "ipython",
    "version": 2
   },
   "file_extension": ".py",
   "mimetype": "text/x-python",
   "name": "python",
   "nbconvert_exporter": "python",
   "pygments_lexer": "ipython2",
   "version": "2.7.6"
  },
  "colab": {
   "provenance": [],
   "gpuType": "T4"
  },
  "accelerator": "GPU"
 },
 "nbformat": 4,
 "nbformat_minor": 5
}
